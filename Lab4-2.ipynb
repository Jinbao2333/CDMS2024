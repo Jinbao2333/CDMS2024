{
 "cells": [
  {
   "cell_type": "markdown",
   "id": "24a2f646-d4c2-4a21-b769-1358ea726357",
   "metadata": {},
   "source": [
    "# Lab4-2 PostgreSQL进行SQL操作(多表、聚集查询和分组聚集)"
   ]
  },
  {
   "cell_type": "markdown",
   "id": "a7067581-0b5f-4e58-b02b-a1d80ef81481",
   "metadata": {
    "jp-MarkdownHeadingCollapsed": true
   },
   "source": [
    "### 本节实验是在对PostgreSQL数据库进行简单的DDL与DQL操作的基础上，进行SQL的多表查询、聚集查询和分组聚集等相关知识。"
   ]
  },
  {
   "cell_type": "markdown",
   "id": "f6067d91-5c34-47ea-8a5c-76f934ec6294",
   "metadata": {},
   "source": [
    "## 1. 使用psycopg2连接并操作postgresql，掌握基础语法"
   ]
  },
  {
   "cell_type": "code",
   "execution_count": 205,
   "id": "7b27ae22-bae1-43c1-ab50-04631d46fb70",
   "metadata": {},
   "outputs": [],
   "source": [
    "# 导入python与postgresql操作库\n",
    "import psycopg2"
   ]
  },
  {
   "cell_type": "markdown",
   "id": "f4491d73-a709-4c2c-bbc6-069a4c92cfae",
   "metadata": {},
   "source": [
    "连接数据库，host和port不用修改，user=\"ecnu学号\", password=\"ECNU学号\", database=\"ecnu学号\"  \n",
    "获取SQL执行器cursor，后续会使用cursor执行SQL并获取返回结果。"
   ]
  },
  {
   "cell_type": "code",
   "execution_count": 206,
   "id": "dfe805f1-94a6-43b1-b71f-abd19424bcd4",
   "metadata": {},
   "outputs": [],
   "source": [
    "conn = psycopg2.connect(host=\"pgm-uf6t8021ru5tac71.rwlb.rds.aliyuncs.com\", port=\"5432\", user=\"ecnu学号\", password=\"ECNU学号\", database=\"ecnu学号\")\n",
    "autocommit = psycopg2.extensions.ISOLATION_LEVEL_AUTOCOMMIT\n",
    "conn.set_isolation_level(autocommit)\n",
    "cur = conn.cursor()\n"
   ]
  },
  {
   "cell_type": "markdown",
   "id": "b54b9cc2-980f-41dc-9244-c9c6c4ee8ae5",
   "metadata": {},
   "source": [
    "## 2. 多表查询、聚集查询和分组聚集练习"
   ]
  },
  {
   "cell_type": "markdown",
   "id": "44f07f36-70ff-4875-94e1-76df7c918860",
   "metadata": {},
   "source": [
    "考虑一个零件销售供应商数据库，里面包含四张数据表：S（供应商）、P（零件）、J（工厂）、SPJ（工厂订购供应商零件的信息），每张数据表的初始化属性与约束如下： \n",
    "\n",
    "S: SNO (CHAR(2)), SNAME (CHAR(6)), STATUS (CHAR(2)), CITY (CHAR(4))      SNO为主键 \n",
    "\n",
    "P: PNO (CHAR(2)), PNAME (CHAR(6)), COLOR (CHAR(2)), WEIGHT (INT)         PNO为主键 \n",
    "\n",
    "J: JNO (CHAR(2)), JNAME (CHAR(8)), CITY (CHAR(4))                        JNO为主键 \n",
    "\n",
    "SPJ: SNO char(2), PNO char(2), JNO char(2)                               (SNO,PNO,JNO)为主键 "
   ]
  },
  {
   "cell_type": "markdown",
   "id": "58962043-692c-4c05-9cc1-795ab7c68b8a",
   "metadata": {},
   "source": [
    "### Prepare 创建表与约束"
   ]
  },
  {
   "cell_type": "markdown",
   "id": "02d80263-9d66-4415-ad79-a6a6eb8d20d0",
   "metadata": {},
   "source": [
    "在创建表前，最基础的事情是确定属性及属性的类型，除了前面的讲解中出现的与下方列出的常用数据类型外，PostgreSQL提供了非常丰富的数据类型：http://www.postgres.cn/docs/14/datatype.html \n",
    "\n",
    "|     类型     |                描述           |\n",
    "|     ----     |    ---------------------------   |\n",
    "|     TEXT     |    字符类型，变长，无长度限制    |\n",
    "|   CHAR(NUM)  |    字符类型，定长，字符长度为NUM |\n",
    "| VARCHAR(NUM) |    字符类型，变长， 字符最长限制为NUM  |\n",
    "|     BOOL     |    布尔类型  |\n",
    "|     REAL     |    浮点类型（单精度） |\n",
    "|    float8    |    浮点类型（双精度） |\n",
    "|      INT     |    整型 |\n",
    "\n",
    "\n",
    "除了前面的讲解中出现的主键约束、非空约束与唯一约束外，数据库还包含外键约束和检查约束，简介如下：\n",
    "\n",
    "|     约束     |                描述            |\n",
    "|     ----     |     ---------------------------   |\n",
    "|   主键约束   |     NOT NULL 和 UNIQUE 的结合。确保某列（或两个列多个列的结合）有唯一标识，有助于更容易更快速地找到表中的一个特定的记录。   |\n",
    "|   唯一约束   |     在一列中或者一组列中保存的数据在表中所有行间是唯一的 |\n",
    "|   非空约束   |     指定一个列中不会有空值        |\n",
    "|   外键约束   |     保证一个表中的数据匹配另一个表中的值的参照完整性 |\n",
    "|   检查约束   |     指定一个某个列的值必须要满足一个布尔表达式 |\n",
    "\n",
    "\n",
    "在创建表的同时添加约束的语法细节可以参考文档：http://www.postgres.cn/docs/14/ddl-constraints.html \n",
    "\n",
    "请同学们完成下述创建表的练习："
   ]
  },
  {
   "cell_type": "markdown",
   "id": "45d5dcc5-0672-4eac-8f8a-9023824eb0c5",
   "metadata": {},
   "source": [
    "#### 准备工作：根据上述表的属性和约束信息，创建表："
   ]
  },
  {
   "cell_type": "code",
   "execution_count": 218,
   "id": "0f99440d-75ac-4cbf-9b7a-22fb5f5e6460",
   "metadata": {},
   "outputs": [],
   "source": [
    "\n",
    "# 初始化表结构\n",
    "# 之前Lab用到这个表结构 如果有冲突，可以修改下名称保留原表 或者删除原表\n",
    "sql1 = \"create table S (Sno char(4) , Sname char(8), Status char(2), City char(4), primary key(Sno))\"\n",
    "sql2 = \"create table P (Pno char(4) , Pname char(8), color char(2), weight int, primary key(Pno))\"\n",
    "sql3 = \"create table J (Jno char(4) , Jname char(8), CITY char(4), primary key(Jno));\"\n",
    "sql4 = \"create table SPJ (Sno char(4), Pno char(4), Jno char(4), QTY int, primary key(Sno, Pno, Jno))\"\n",
    "\n",
    "cur.execute(sql1)\n",
    "cur.execute(sql2)\n",
    "cur.execute(sql3)\n",
    "cur.execute(sql4)\n"
   ]
  },
  {
   "cell_type": "code",
   "execution_count": null,
   "id": "1578870c-0eea-42f7-aaa8-6d743034de8a",
   "metadata": {},
   "outputs": [],
   "source": [
    "\n",
    "# 添加外键约束\n",
    "sql1 = \"ALTER TABLE SPJ ADD FOREIGN KEY (SNO) REFERENCES S;\"\n",
    "sql2 = \"ALTER TABLE SPJ ADD FOREIGN KEY (PNO) REFERENCES P;\"\n",
    "sql3 = \"ALTER TABLE SPJ ADD FOREIGN KEY (JNO) REFERENCES J;\"\n",
    "cur.execute(sql1)\n",
    "cur.execute(sql2)\n",
    "cur.execute(sql3)\n"
   ]
  },
  {
   "cell_type": "code",
   "execution_count": null,
   "id": "c354953d-5472-45e9-9550-c0f3f20502cb",
   "metadata": {},
   "outputs": [],
   "source": [
    "\n",
    "# 初始化数据 数据部分大家可以自己制造很多 `python 程序产生`，以下案例中只给出了少量数据\n",
    "sql1 = \"insert into S(Sno,Sname,Status,City) values \" + \\\n",
    "       \"('S1','精益','20','天津'), ('S2','盛锡','10','北京'), \" + \\\n",
    "       \"('S3','东方红','30','北京'), ('S4','丰泰盛','20','天津'), \" + \\\n",
    "       \"('S5','为民','30','上海'), ('S6','盛锡-2','10','上海'), \" + \\\n",
    "       \"('S7','三角-2','30','北京'), ('S8','精益-2','20','广州'), \" + \\\n",
    "       \"('S9','三角','10','深圳'), ('S10','顺丰','20','广州');\"\n",
    "\n",
    "sql2 = \"insert into P(Pno,Pname,color,weight) values \" + \\\n",
    "       \"('P1','螺母','红',12), ('P2','螺栓','绿',17), \" + \\\n",
    "       \"('P3','螺丝刀','蓝',14), ('P4','螺丝刀','红',14), \" + \\\n",
    "       \"('P5','凸轮','蓝',40), ('P6','齿轮','红',30),\" + \\\n",
    "       \"('P7','轮胎','黑',100), ('P8','钢筋','灰',100);\"\n",
    "\n",
    "sql3 = \"insert into J(Jno,Jname,CITY) values \" + \\\n",
    "       \"('J1','三建','北京'), ('J2','一汽','长春'), \" + \\\n",
    "       \"('J3','弹簧厂','天津'), ('J4','造船厂','天津'), \" + \\\n",
    "       \"('J5','机车厂','唐山'), ('J6','无线电厂','常州'), \" + \\\n",
    "       \"('J7','半导体厂','南京'), ('J8','上汽','上海'), ('J9','重汽','杭州');\"\n",
    "\n",
    "sql4 = \"insert into SPJ(Sno,Pno,Jno,QTY) values \" + \\\n",
    "       \"('S1','P1','J1',200), ('S1','P1','J3',100), ('S1','P1','J4',700), \" + \\\n",
    "       \"('S1','P2','J2',100), ('S2','P3','J1',400), ('S2','P3','J2',200), \" + \\\n",
    "       \"('S2','P3','J4',500), ('S2','P3','J5',400), ('S2','P5','J1',400), \" + \\\n",
    "       \"('S2','P5','J2',100), ('S3','P1','J1',200), ('S3','P3','J1',200), \" + \\\n",
    "       \"('S4','P5','J1',100), ('S4','P6','J3',300), ('S4','P6','J4',200), \" + \\\n",
    "       \"('S5','P2','J4',100), ('S5','P3','J1',200), ('S5','P6','J2',200), \" + \\\n",
    "       \"('S5','P6','J4',500), ('S6','P8','J3',600), ('S6','P7','J8',900), \" + \\\n",
    "       \"('S6','P8','J4',100), ('S6','P7','J9',500), ('S6','P7','J2',500), \" + \\\n",
    "       \"('S6','P5','J7',50), ('S7','P8','J1',100), ('S7','P7','J2',200), \" + \\\n",
    "       \"('S7','P7','J9',500),('S8','P5','J5',300), ('S8','P6','J1',100), \" + \\\n",
    "       \"('S8','P7','J9',450), ('S9','P5','J1',100), ('S9','P6','J3',300), \" + \\\n",
    "       \"('S9','P6','J4',200), ('S10','P7','J9',300), ('S10','P7','J8',300), \" + \\\n",
    "       \"('S10','P1','J5',100);\"\n",
    "\n",
    "cur.execute(sql1)\n",
    "cur.execute(sql2)\n",
    "cur.execute(sql3)\n",
    "cur.execute(sql4)\n"
   ]
  },
  {
   "cell_type": "markdown",
   "id": "6d380d1b-fc6c-4651-acc5-2b7a68dd8a4b",
   "metadata": {},
   "source": [
    "### 2.1 多表查询实现"
   ]
  },
  {
   "cell_type": "code",
   "execution_count": null,
   "id": "acc2aee8-f2b4-489f-b940-2a38f4048cda",
   "metadata": {},
   "outputs": [],
   "source": [
    "\n",
    "# 查询工厂信息和其订购的供应商零件信息\n",
    "sql = \"select J.Jno, J.Jname, J.CITY, SPJ.Sno, SPJ.Pno, SPJ.Jno, SPJ.QTY from J, SPJ where J.Jno = SPJ.Jno;\"\n",
    "cur.execute(sql)\n",
    "\n",
    "for tuple in cur.fetchall():\n",
    "    print(tuple)\n"
   ]
  },
  {
   "cell_type": "code",
   "execution_count": null,
   "id": "828caead-af75-4c54-862d-cd635fa24661",
   "metadata": {},
   "outputs": [],
   "source": [
    "\n",
    "# 查询零件的供应商信息\n",
    "sql = \"select P.Pno, P.Pname, P.color, P.weight, SPJ.Sno, SPJ.Pno, SPJ.Jno, SPJ.QTY from P, SPJ where P.Pno = SPJ.Pno;\"\n",
    "cur.execute(sql)\n",
    "\n",
    "for tuple in cur.fetchall():\n",
    "    print(tuple)\n"
   ]
  },
  {
   "cell_type": "code",
   "execution_count": null,
   "id": "68ef6e35-2cd1-459e-b36f-f9ac4f2c4fcd",
   "metadata": {},
   "outputs": [],
   "source": [
    "\n",
    "# 查询 QTY 大于 500 的零件的供应商信息\n",
    "sql = \"select P.Pno, P.Pname, P.color, P.weight, SPJ.Sno, SPJ.Pno, SPJ.Jno, SPJ.QTY from P, SPJ where P.Pno = SPJ.Pno and SPJ.QTY > 500;\"\n",
    "cur.execute(sql)\n",
    "\n",
    "for tuple in cur.fetchall():\n",
    "    print(tuple)\n"
   ]
  },
  {
   "cell_type": "markdown",
   "id": "be286ce4-fd78-4136-a690-07e47f03615f",
   "metadata": {},
   "source": [
    "#### 练习一：多表查询练习"
   ]
  },
  {
   "cell_type": "code",
   "execution_count": 220,
   "id": "f56d1382-d88d-47bf-8f1d-cf883a3dc131",
   "metadata": {},
   "outputs": [],
   "source": [
    "# 填写代码，可在多个cell中完成\n",
    "\n",
    "# S（供应商）、P（零件）、J（工厂）、SPJ（工厂订购供应商零件的信息）\n",
    "\n",
    "# 练习2.1.1 查询工厂订购供应商零件的信息（带有工厂、零件和供应商各自的属性信息）；\n"
   ]
  },
  {
   "cell_type": "code",
   "execution_count": null,
   "id": "f65b253c-bc0b-47d6-82d7-d90d82fc0116",
   "metadata": {},
   "outputs": [],
   "source": [
    "# 填写代码，可在多个cell中完成\n",
    "\n",
    "# S（供应商）、P（零件）、J（工厂）、SPJ（工厂订购供应商零件的信息）\n",
    "\n",
    "# Pname：螺母  螺栓\n",
    "# Jname：弹簧厂  机车厂\n",
    "\n",
    "# 练习2.1.2 查询订购了以下零件【Pname 零件名称 `螺母` or `螺栓`】，且下列工厂【Jname 工厂名称 `弹簧厂` or `机车厂`】的工厂信息、零件信息和及其订购的信息；\n",
    "\n"
   ]
  },
  {
   "cell_type": "code",
   "execution_count": null,
   "id": "29043457-0081-4f14-9734-79c39c2298b1",
   "metadata": {},
   "outputs": [],
   "source": [
    "# 填写代码，可在多个cell中完成\n",
    "\n",
    "# S（供应商）、P（零件）、J（工厂）、SPJ（工厂订购供应商零件的信息）\n",
    "\n",
    "# Pname：螺母  螺栓\n",
    "# Jname：弹簧厂  机车厂\n",
    "\n",
    "# 练习2.1.3 查询订购了以下零件【Pname 零件名称 `螺母` or `螺栓`】，且下列工厂【Jname 工厂名称 `弹簧厂` or `机车厂`】的工厂信息、零件信息、供应商信息和及其订购的信息；\n",
    "\n"
   ]
  },
  {
   "cell_type": "markdown",
   "id": "5ecc1be3-7f59-48da-9732-f2e101f842d6",
   "metadata": {},
   "source": [
    "### 2.2 分组查询实现"
   ]
  },
  {
   "cell_type": "code",
   "execution_count": null,
   "id": "ed4c39b8-7195-40f7-bb01-ad3163ebf97e",
   "metadata": {},
   "outputs": [],
   "source": [
    "# S（供应商）、P（零件）、J（工厂）、SPJ（工厂订购供应商零件的信息）\n",
    "\n",
    "# 统计订购零件的订单的个数    # 假定工厂订购供应商零件信息表SPJ 中 一条数据为一个订单\n",
    "sql = \"select count(*) from SPJ;\"\n",
    "cur.execute(sql)\n",
    "\n",
    "for tuple in cur.fetchall():\n",
    "    print(tuple)\n"
   ]
  },
  {
   "cell_type": "code",
   "execution_count": null,
   "id": "607e1f9b-fc5c-410f-aa35-af680d4ef0b9",
   "metadata": {},
   "outputs": [],
   "source": [
    "# S（供应商）、P（零件）、J（工厂）、SPJ（工厂订购供应商零件的信息）\n",
    "\n",
    "# 统计订购零件的订单中 QTY 大于等于150 的订单的个数    # 假定工厂订购供应商零件信息表SPJ 中 一条数据为一个订单\n",
    "sql = \"select count(*) from SPJ where QTY >= 150;\"\n",
    "cur.execute(sql)\n",
    "\n",
    "for tuple in cur.fetchall():\n",
    "    print(tuple)\n"
   ]
  },
  {
   "cell_type": "code",
   "execution_count": null,
   "id": "f7bea78f-62ff-469b-8c15-1a3c2aaa63a7",
   "metadata": {},
   "outputs": [],
   "source": [
    "# S（供应商）、P（零件）、J（工厂）、SPJ（工厂订购供应商零件的信息）\n",
    "\n",
    "# 统计工厂所在地在【`北京`,`上海`,`天津`】的工厂个数\n",
    "sql = \"select count(*) from J where CITY in ('北京', '上海', '天津');\"\n",
    "cur.execute(sql)\n",
    "\n",
    "for tuple in cur.fetchall():\n",
    "    print(tuple)\n"
   ]
  },
  {
   "cell_type": "code",
   "execution_count": null,
   "id": "eb5a5c9b-5ad3-4833-8116-5caf30053921",
   "metadata": {},
   "outputs": [],
   "source": [
    "# S（供应商）、P（零件）、J（工厂）、SPJ（工厂订购供应商零件的信息）\n",
    "\n",
    "# 统计工厂分布的城市的数量（去重）\n",
    "sql = \"select count(distinct CITY) as city_num from J;\"\n",
    "cur.execute(sql)\n",
    "\n",
    "for tuple in cur.fetchall():\n",
    "    print(tuple)\n"
   ]
  },
  {
   "cell_type": "code",
   "execution_count": null,
   "id": "7f64af57-4d22-4cbc-a991-af12bf7b9289",
   "metadata": {},
   "outputs": [],
   "source": [
    "# S（供应商）、P（零件）、J（工厂）、SPJ（工厂订购供应商零件的信息）\n",
    "\n",
    "# 统计订购零件的订单的 QTY 的统计信息    # 假定工厂订购供应商零件信息表SPJ 中 一条数据为一个订单\n",
    "sql = \"select MIN(QTY), MAX(QTY), SUM(QTY), COUNT(*), COUNT(1), AVG(QTY) from SPJ;\"\n",
    "cur.execute(sql)\n",
    "\n",
    "for tuple in cur.fetchall():\n",
    "    print(tuple)\n"
   ]
  },
  {
   "cell_type": "markdown",
   "id": "c9716ab2-ec61-45cb-95e0-8125395c94cc",
   "metadata": {},
   "source": [
    "#### 练习二：分组查询练习"
   ]
  },
  {
   "cell_type": "code",
   "execution_count": 221,
   "id": "22bfa08c-db50-4359-9db3-b153ae4787d7",
   "metadata": {},
   "outputs": [],
   "source": [
    "# 填写代码，可在多个cell中完成\n",
    "# S（供应商）、P（零件）、J（工厂）、SPJ（工厂订购供应商零件的信息）\n",
    "\n",
    "# 练习2.2.1 统计有订购零件（有订单） 的工厂的个数\n",
    "\n"
   ]
  },
  {
   "cell_type": "code",
   "execution_count": null,
   "id": "d799dd5d-3219-494e-a430-3314582f1366",
   "metadata": {},
   "outputs": [],
   "source": [
    "# 填写代码，可在多个cell中完成\n",
    "# S（供应商）、P（零件）、J（工厂）、SPJ（工厂订购供应商零件的信息）\n",
    "\n",
    "# 练习2.2.2 统计被订购零件（有订单） 的供应商的个数\n",
    "\n"
   ]
  },
  {
   "cell_type": "code",
   "execution_count": null,
   "id": "a846480c-9ed7-459a-8440-a184fd37b56b",
   "metadata": {},
   "outputs": [],
   "source": [
    "# 填写代码，可在多个cell中完成\n",
    "# S（供应商）、P（零件）、J（工厂）、SPJ（工厂订购供应商零件的信息）\n",
    "\n",
    "# 练习2.2.3-1 分别计算出 北京 上海 天津 三个地区各自的经销商的个数   # 可使用多条 SQL 获取结果\n",
    "\n",
    "\n",
    "# 练习2.2.3-2 一条SQL来解决上述问题  \n",
    "\n",
    "\n"
   ]
  },
  {
   "cell_type": "markdown",
   "id": "87de074c-9af1-45d3-9dbc-c8d296fbec5a",
   "metadata": {},
   "source": [
    "### 2.3 分组聚合查询实现"
   ]
  },
  {
   "cell_type": "code",
   "execution_count": null,
   "id": "725bfda1-fb32-4d84-801c-c5e38f04e423",
   "metadata": {},
   "outputs": [],
   "source": [
    "# S（供应商）、P（零件）、J（工厂）、SPJ（工厂订购供应商零件的信息）\n",
    "\n",
    "# 查询订购【北京 上海 天津】 三个地区的经销商订单 的工厂城市的分布 和 订单数\n",
    "sql = \"select J.CITY, COUNT(distinct SPJ.Jno) as city_num, COUNT(SPJ.Jno) as order_num from S, SPJ, J where S.Sno = SPJ.Sno and J.Jno = SPJ.Jno group by J.CITY;\"\n",
    "cur.execute(sql)\n",
    "\n",
    "for tuple in cur.fetchall():\n",
    "    print(tuple)\n"
   ]
  },
  {
   "cell_type": "code",
   "execution_count": null,
   "id": "9140f748-2c75-47cc-b8ad-2e52579d4706",
   "metadata": {},
   "outputs": [],
   "source": [
    "# S（供应商）、P（零件）、J（工厂）、SPJ（工厂订购供应商零件的信息）\n",
    "\n",
    "# 查询订购的订单 的零件的颜色分布 和 订单数 和 总计的 QTY\n",
    "sql = \"select P.COLOR, COUNT(distinct P.Pno) as color_num, COUNT(SPJ.Pno) as order_num, COUNT(SPJ.QTY) as QTY from S, SPJ, J, P where S.Sno = SPJ.Sno and J.Jno = SPJ.Jno  and P.Pno = SPJ.Pno group by P.COLOR;\"\n",
    "cur.execute(sql)\n",
    "\n",
    "for tuple in cur.fetchall():\n",
    "    print(tuple)\n"
   ]
  },
  {
   "cell_type": "code",
   "execution_count": null,
   "id": "88c6851d-c955-406f-9c6b-dad0bfd63300",
   "metadata": {},
   "outputs": [],
   "source": [
    "# S（供应商）、P（零件）、J（工厂）、SPJ（工厂订购供应商零件的信息）\n",
    "\n",
    "# 统计 每个经销商订购的每个工厂的订单个数 和 零件的总数量-QTY\n",
    "sql = \"select Sno, Jno, count(*) as order_num, sum(QTY) as SUM_QTY from SPJ group by Sno, Jno;\"\n",
    "cur.execute(sql)\n",
    "\n",
    "for tuple in cur.fetchall():\n",
    "    print(tuple)"
   ]
  },
  {
   "cell_type": "markdown",
   "id": "9a742f7b-5d06-4f4a-a40b-995be504f5a6",
   "metadata": {},
   "source": [
    "#### 练习三：分组聚合查询练习"
   ]
  },
  {
   "cell_type": "code",
   "execution_count": null,
   "id": "0d0aab8b-884a-49fa-9198-2226c976b554",
   "metadata": {},
   "outputs": [],
   "source": [
    "# 填写代码，可在多个cell中完成\n",
    "# 练习2.3.1 分别计算出 【北京 上海 天津】 三个地区各自的经销商的个数  单条 SQL\n",
    "\n"
   ]
  },
  {
   "cell_type": "code",
   "execution_count": null,
   "id": "ef686a0f-dc18-4062-88be-4131cc270514",
   "metadata": {},
   "outputs": [],
   "source": [
    "# 填写代码，可在多个cell中完成\n",
    "# 练习2.3.2 查询订购的订单的 经销商城市的分布 和 订单数 和 总计的 QTY\n",
    "\n",
    "\n"
   ]
  },
  {
   "cell_type": "code",
   "execution_count": null,
   "id": "f4782a05-39f3-4fc2-87e4-35dd2e03fb2b",
   "metadata": {},
   "outputs": [],
   "source": [
    "# 填写代码，可在多个cell中完成\n",
    "# 练习2.3.3 查询订订单购经销商为【北京 上海 天津】三个地区，其订购的工厂的城市分布，订单数 和 QTY 分层信息\n",
    "# QTY 分层信息指的是【按照一百分层（QTY [0,100) => 100, [100,200) => 200... ） 700 及以上都归到 800 这个层次】\n",
    "\n",
    "# 提示 group by city, case when 【QTY】\n",
    "\n",
    "\n"
   ]
  },
  {
   "cell_type": "code",
   "execution_count": null,
   "id": "bd498ed3-1da0-4d5d-8524-7e2ee7edd8ae",
   "metadata": {},
   "outputs": [],
   "source": [
    "# 填写代码，可在多个cell中完成\n",
    "# 练习2.3.4 查询订购的订单 的零件的颜色分布 和 订单数 和 总计的 QTY\n",
    "\n",
    "\n"
   ]
  },
  {
   "cell_type": "markdown",
   "id": "ad4c0962-865b-4edc-b3a6-96f203532a8e",
   "metadata": {},
   "source": [
    "### 2.4 子查询实现"
   ]
  },
  {
   "cell_type": "code",
   "execution_count": 222,
   "id": "f8852e83-94ad-4119-8df0-12e7b1946c19",
   "metadata": {},
   "outputs": [],
   "source": [
    "# S（供应商）、P（零件）、J（工厂）、SPJ（工厂订购供应商零件的信息）\n",
    "\n",
    "# 获取 经销商名称和订单数以及总的 QTY\n",
    "sql = \"select T.Sno, T.Sname, COUNT(*), sum(QTY) from SPJ, (select Sno, Sname from S where CITY in ('北京', '上海', '天津')) as T where SPJ.Sno = T.Sno group by T.SNO, T.Sname;\"\n",
    "cur.execute(sql)\n",
    "\n",
    "for tuple in cur.fetchall():\n",
    "    print(tuple)\n"
   ]
  },
  {
   "cell_type": "code",
   "execution_count": null,
   "id": "2671bad7-e858-477e-b62e-5af47cb55caa",
   "metadata": {},
   "outputs": [],
   "source": [
    "# S（供应商）、P（零件）、J（工厂）、SPJ（工厂订购供应商零件的信息）\n",
    "\n",
    "# 获取 经销商名称和订单数以及总的 QTY\n",
    "sql = \"select T.Sno, T.Sname, COUNT(*), sum(QTY) from SPJ, (select Sno, Sname from S where CITY in ('北京', '上海', '天津')) as T where SPJ.Sno = T.Sno group by T.Sno, T.Sname;\"\n",
    "cur.execute(sql)\n",
    "\n",
    "for tuple in cur.fetchall():\n",
    "    print(tuple)\n"
   ]
  },
  {
   "cell_type": "code",
   "execution_count": null,
   "id": "95fe89b2-957c-4da1-933d-60d5f1bb0b44",
   "metadata": {},
   "outputs": [],
   "source": [
    "# S（供应商）、P（零件）、J（工厂）、SPJ（工厂订购供应商零件的信息）\n",
    "\n",
    "# 查询 订购了 北京和天津 地区工厂生产的零件的 经销商信息及其订单信息\n",
    "# 第一步 sql1 => as temporary table tmp 将sql内容的结果作为临时表 命名为 tmp\n",
    "sql1 = \"select Jno, Jname from J where CITY in ('北京', '天津') ;\"\n",
    "\n",
    "# 第二步\n",
    "sql2 = \"select S.no, Sname, SPJ.Jno, tmp.Jname, SPJ.QTY from SPJ, S, tmp where SPJ.Jno = tmp.Jno and SPJ.Sno = S.Sno ;\"  # => as table tmp\n",
    "\n",
    "\n",
    "# 合并 => 将 sql1 子查询 合并到 sql2 中, 得到单条 sql\n",
    "sql = \"select S.no, Sname, SPJ.Jno, tmp.Jname, SPJ.QTY, Pno from SPJ, S, (select Jno, Jname from J where CITY in ('北京', '天津')) as tmp where SPJ.Jno = tmp.Jno and SPJ.Sno = S.Sno ;\"\n",
    "\n",
    "cur.execute(sql)\n",
    "for tuple in cur.fetchall():\n",
    "    print(tuple)\n"
   ]
  },
  {
   "cell_type": "markdown",
   "id": "d13c9967-6507-4b39-a17d-1f0bfc662190",
   "metadata": {},
   "source": [
    "#### 练习四：子查询练习"
   ]
  },
  {
   "cell_type": "code",
   "execution_count": null,
   "id": "9dbe26d5-731f-4ffe-8b9d-1f25b42b34e8",
   "metadata": {},
   "outputs": [],
   "source": [
    "# 填写代码，可在多个cell中完成\n",
    "# 练习2.4.1 以经销商ID为粒度，获取经销商的名称和 其订单数、总的 QTY\n",
    "# 思考该查询使用多表连接如何实现\n",
    "\n",
    "\n"
   ]
  },
  {
   "cell_type": "code",
   "execution_count": null,
   "id": "3f4e9a79-157c-4f0a-b6b6-aa810a2a850e",
   "metadata": {},
   "outputs": [],
   "source": [
    "# 填写代码，可在多个cell中完成\n",
    "# 练习2.4.2 单条 SQL: 获取有订单的工厂信息 & 有订单的供应商信息 & 有订单的零件信息\n",
    "\n",
    "\n"
   ]
  }
 ],
 "metadata": {
  "kernelspec": {
   "display_name": "Python 3 (ipykernel)",
   "language": "python",
   "name": "python3"
  },
  "language_info": {
   "codemirror_mode": {
    "name": "ipython",
    "version": 3
   },
   "file_extension": ".py",
   "mimetype": "text/x-python",
   "name": "python",
   "nbconvert_exporter": "python",
   "pygments_lexer": "ipython3",
   "version": "3.11.8"
  }
 },
 "nbformat": 4,
 "nbformat_minor": 5
}
