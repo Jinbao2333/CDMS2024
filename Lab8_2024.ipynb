{
 "cells": [
  {
   "cell_type": "markdown",
   "id": "24167eaf-07ad-4711-8c0e-805bc62f6732",
   "metadata": {
    "tags": []
   },
   "source": [
    "# Lab8 ORM拓展"
   ]
  },
  {
   "cell_type": "markdown",
   "id": "12dfe9b5-d26e-4072-abee-f8802a3f71cb",
   "metadata": {},
   "source": [
    "本章主要介绍 Python 使用 ORM 对 PostgreSQL 数据库进行多表连接，子查询，反向查询等一些操作，并且进行综合练习"
   ]
  },
  {
   "cell_type": "markdown",
   "id": "1871b532-6e16-4d02-8371-651414cd1c54",
   "metadata": {},
   "source": [
    "## 预先准备"
   ]
  },
  {
   "cell_type": "markdown",
   "id": "eebcc616-1a37-4244-848e-31c6e7f0ba53",
   "metadata": {},
   "source": [
    "### 连接数据库"
   ]
  },
  {
   "cell_type": "code",
   "execution_count": null,
   "id": "daa6824b-276b-4c5a-8cc9-6ec3de83fca0",
   "metadata": {},
   "outputs": [],
   "source": [
    "import sqlalchemy\n",
    "from sqlalchemy import Column, String, create_engine, Integer, Text, Date\n",
    "from sqlalchemy.orm import sessionmaker,scoped_session\n",
    "from sqlalchemy.ext.declarative import declarative_base\n",
    "import time\n",
    "from sqlalchemy import create_engine\n",
    "engine = create_engine(\"postgresql://XXX\",\n",
    "    max_overflow=0,\n",
    "    # 链接池大小\n",
    "    pool_size=5,\n",
    "    # 链接池中没有可用链接则最多等待的秒数，超过该秒数后报错\n",
    "    pool_timeout=10,\n",
    "    # 多久之后对链接池中的链接进行一次回收\n",
    "    pool_recycle=1,\n",
    "    # 查看原生语句（未格式化）\n",
    "    echo=True\n",
    ")\n",
    "Session = sessionmaker(bind=engine)\n",
    "session = scoped_session(Session)\n",
    "DbSession = sessionmaker(bind=engine)\n",
    "session = DbSession()"
   ]
  },
  {
   "cell_type": "markdown",
   "id": "d118163f-2938-4264-ab2d-624e85490560",
   "metadata": {
    "tags": []
   },
   "source": [
    "### 创建数据表"
   ]
  },
  {
   "cell_type": "code",
   "execution_count": null,
   "id": "4aeb7230-f029-4a9b-b992-e55e319b10c2",
   "metadata": {},
   "outputs": [],
   "source": [
    "from sqlalchemy.ext.declarative import declarative_base\n",
    "from sqlalchemy import Enum,ForeignKey,UniqueConstraint\n",
    "from sqlalchemy.orm import relationship\n",
    "Base = declarative_base()\n",
    "\n",
    "class StudentsNumberInfo(Base):\n",
    "    \"\"\"学号表\"\"\"\n",
    "    __tablename__ = \"studentsNumberInfo\"\n",
    "    id = Column(Integer, primary_key=True, autoincrement=True, comment=\"主键\")\n",
    "    number = Column(Integer, nullable=False, unique=True, comment=\"学生编号\")\n",
    "    admission = Column(Date, nullable=False, comment=\"入学时间\")\n",
    "    graduation = Column(Date, nullable=False, comment=\"毕业时间\")\n",
    "\n",
    "class TeachersInfo(Base):\n",
    "    \"\"\"教师表\"\"\"\n",
    "    __tablename__ = \"teachersInfo\"\n",
    "    id = Column(Integer, primary_key=True, autoincrement=True, comment=\"主键\")\n",
    "    number = Column(Integer, nullable=False, unique=True, comment=\"教师编号\")\n",
    "    name = Column(String(64), nullable=False, comment=\"教师姓名\")\n",
    "    gender = Column(String(1), nullable=False, comment=\"教师性别\")\n",
    "    age = Column(Integer, nullable=False, comment=\"教师年龄\")\n",
    "class ClassesInfo(Base):\n",
    "    \"\"\"班级表\"\"\"\n",
    "    __tablename__ = \"classesInfo\"\n",
    "    id = Column(Integer, primary_key=True, autoincrement=True, comment=\"主键\")\n",
    "    number = Column(Integer, nullable=False, unique=True, comment=\"班级编号\")\n",
    "    name = Column(String(64), nullable=False, unique=True, comment=\"班级名称\")\n",
    "    # 一对一关系必须为连接表的连接字段创建UNIQUE的约束，这样才能是一对一，否则是一对多\n",
    "    fk_teacher_id = Column(\n",
    "        Integer,\n",
    "        ForeignKey(\n",
    "            \"teachersInfo.id\",\n",
    "            ondelete=\"CASCADE\",\n",
    "            onupdate=\"CASCADE\",\n",
    "        ),\n",
    "        nullable=False,\n",
    "        unique=True,\n",
    "        comment=\"班级负责人\"\n",
    "    )\n",
    "    # 下面这2个均属于逻辑字段，适用于正反向查询。在使用ORM的时候，我们不必每次都进行JOIN查询，而恰好正反向的查询使用频率会更高\n",
    "    # 这种逻辑字段不会在物理层面上创建，它只适用于查询，本身不占据任何数据库的空间\n",
    "    # sqlalchemy的正反向概念与Django有所不同，Django是外键字段在那边，那边就作为正\n",
    "    # 而sqlalchemy是relationship字段在那边，那边就作为正\n",
    "    # 比如班级表拥有 relationship 字段，而老师表不曾拥有\n",
    "    # 那么用班级表的这个relationship字段查老师时，就称为正向查询\n",
    "    # 反之，如果用老师来查班级，就称为反向查询\n",
    "    # 另外对于这个逻辑字段而言，根据不同的表关系，创建的位置也不一样：\n",
    "    #  - 1 TO 1：建立在任意一方均可，查询频率高的一方最好\n",
    "    #  - 1 TO M：建立在M的一方\n",
    "    #  - M TO M：中间表中建立2个逻辑字段，这样任意一方都可以先反向，再正向拿到另一方\n",
    "    #  - 遵循一个原则，ForeignKey建立在那个表上，那个表上就建立relationship\n",
    "    #  - 有几个ForeignKey，就建立几个relationship\n",
    "    # 总而言之，使用ORM与原生SQL最直观的区别就是正反向查询能带来更高的代码编写效率，也更加简单\n",
    "    # 甚至我们可以不用外键约束，只创建这种逻辑字段，让表与表之间的耦合度更低，但是这样要避免脏数据的产生\n",
    "    # 班级负责人，这里是一对一关系，一个班级只有一个负责人\n",
    "    leader_teacher = relationship(\n",
    "        # 正向查询时所链接的表，当使用 classesInfo.leader_teacher 时，它将自动指向fk的那一条记录\n",
    "        \"TeachersInfo\",\n",
    "        # 反向查询时所链接的表，当使用 teachersInfo.leader_class 时，它将自动指向该老师所管理的班级\n",
    "        backref=\"leader_class\",\n",
    "    )\n",
    "class ClassesAndTeachersRelationship(Base):\n",
    "    \"\"\"任教老师与班级的关系表\"\"\"\n",
    "    __tablename__ = \"classesAndTeachersRelationship\"\n",
    "    id = Column(Integer, primary_key=True, autoincrement=True, comment=\"主键\")\n",
    "    # 中间表中注意不要设置单列的UNIQUE约束，否则就会变为一对一\n",
    "    fk_teacher_id = Column(\n",
    "        Integer,\n",
    "        ForeignKey(\n",
    "            \"teachersInfo.id\",\n",
    "            ondelete=\"CASCADE\",\n",
    "            onupdate=\"CASCADE\",\n",
    "        ),\n",
    "        nullable=False,\n",
    "        comment=\"教师记录\"\n",
    "    )\n",
    "    fk_class_id = Column(\n",
    "        Integer,\n",
    "        ForeignKey(\n",
    "            \"classesInfo.id\",\n",
    "            ondelete=\"CASCADE\",\n",
    "            onupdate=\"CASCADE\",\n",
    "        ),\n",
    "        nullable=False,\n",
    "        comment=\"班级记录\"\n",
    "    )\n",
    "    # 多对多关系的中间表必须使用联合唯一约束，防止出现重复数据\n",
    "    __table_args__ = (\n",
    "        UniqueConstraint(\"fk_teacher_id\", \"fk_class_id\"),\n",
    "    )\n",
    "    # 逻辑字段\n",
    "    # 给班级用的，查看所有任教老师\n",
    "    mid_to_teacher = relationship(\n",
    "        \"TeachersInfo\",\n",
    "        backref=\"mid\",\n",
    "    )\n",
    "    # 给老师用的，查看所有任教班级\n",
    "    mid_to_class = relationship(\n",
    "        \"ClassesInfo\",\n",
    "        backref=\"mid\"\n",
    "    )\n",
    "class StudentsInfo(Base):\n",
    "    \"\"\"学生信息表\"\"\"\n",
    "    __tablename__ = \"studentsInfo\"\n",
    "    id = Column(Integer, primary_key=True, autoincrement=True, comment=\"主键\")\n",
    "    name = Column(String(64), nullable=False, comment=\"学生姓名\")\n",
    "    gender = Column(String(1), nullable=False, comment=\"学生性别\")\n",
    "    age = Column(Integer, nullable=False, comment=\"学生年龄\")\n",
    "    # 外键约束\n",
    "    # 一对一关系必须为连接表的连接字段创建UNIQUE的约束，这样才能是一对一，否则是一对多\n",
    "    fk_student_id = Column(\n",
    "        Integer,\n",
    "        ForeignKey(\n",
    "            \"studentsNumberInfo.id\",\n",
    "            ondelete=\"CASCADE\",\n",
    "            onupdate=\"CASCADE\"\n",
    "        ),\n",
    "        nullable=False,\n",
    "        comment=\"学生编号\"\n",
    "    )\n",
    "    # 相比于一对一，连接表的连接字段不用UNIQUE约束即为多对一关系\n",
    "    fk_class_id = Column(\n",
    "        Integer,\n",
    "        ForeignKey(\n",
    "            \"classesInfo.id\",\n",
    "            ondelete=\"CASCADE\",\n",
    "            onupdate=\"CASCADE\"\n",
    "        ),\n",
    "        comment=\"班级编号\"\n",
    "    )\n",
    "    # 逻辑字段\n",
    "    # 所在班级, 这里是一对多关系，一个班级中可以有多名学生\n",
    "    from_class = relationship(\n",
    "        \"ClassesInfo\",\n",
    "        backref=\"have_student\",\n",
    "    )\n",
    "    # 学生学号，这里是一对一关系，一个学生只能拥有一个学号\n",
    "    number_info = relationship(\n",
    "        \"StudentsNumberInfo\",\n",
    "        backref=\"student_info\",\n",
    "    )\n",
    "if __name__ == \"__main__\":\n",
    "    # 删除表\n",
    "    Base.metadata.drop_all(engine)\n",
    "    # 创建表\n",
    "    Base.metadata.create_all(engine)"
   ]
  },
  {
   "cell_type": "markdown",
   "id": "360e53ac-8174-46ad-af08-2d53ffd79a47",
   "metadata": {},
   "source": [
    "### 插入数据"
   ]
  },
  {
   "cell_type": "code",
   "execution_count": null,
   "id": "7e2df637-2b22-4a46-b0ac-06be12aeaaad",
   "metadata": {},
   "outputs": [],
   "source": [
    "import datetime\n",
    "session.add_all(\n",
    "    (\n",
    "        # 插入学号表数据\n",
    "        StudentsNumberInfo(\n",
    "            number=160201,\n",
    "            admission=datetime.datetime.date(datetime.datetime(2016, 9, 1)),\n",
    "            graduation=datetime.datetime.date(datetime.datetime(2021, 6, 15))\n",
    "        ),\n",
    "        StudentsNumberInfo(\n",
    "            number=160101,\n",
    "            admission=datetime.datetime.date(datetime.datetime(2016, 9, 1)),\n",
    "            graduation=datetime.datetime.date(datetime.datetime(2021, 6, 15))\n",
    "        ),\n",
    "        StudentsNumberInfo(\n",
    "            number=160301,\n",
    "            admission=datetime.datetime.date(datetime.datetime(2016, 9, 1)),\n",
    "            graduation=datetime.datetime.date(datetime.datetime(2021, 6, 15))\n",
    "        ),\n",
    "        StudentsNumberInfo(\n",
    "            number=160102,\n",
    "            admission=datetime.datetime.date(datetime.datetime(2016, 9, 1)),\n",
    "            graduation=datetime.datetime.date(datetime.datetime(2021, 6, 15))\n",
    "        ),\n",
    "        StudentsNumberInfo(\n",
    "            number=160302,\n",
    "            admission=datetime.datetime.date(datetime.datetime(2016, 9, 1)),\n",
    "            graduation=datetime.datetime.date(datetime.datetime(2021, 6, 15))\n",
    "        ),\n",
    "        StudentsNumberInfo(\n",
    "            number=160202,\n",
    "            admission=datetime.datetime.date(datetime.datetime(2016, 9, 1)),\n",
    "            graduation=datetime.datetime.date(datetime.datetime(2021, 6, 15))\n",
    "        ),\n",
    "        # 插入教师表数据\n",
    "        TeachersInfo(\n",
    "            number=3341, name=\"David\", gender=\"m\", age=32,\n",
    "        ),\n",
    "        TeachersInfo(\n",
    "            number=3342, name=\"Jason\", gender=\"m\", age=30,\n",
    "        ),\n",
    "        TeachersInfo(\n",
    "            number=3343, name=\"Lisa\", gender=\"f\", age=28,\n",
    "        ),\n",
    "        # 插入班级表数据\n",
    "        ClassesInfo(\n",
    "            number=1601, name=\"one year one class\", fk_teacher_id=1\n",
    "        ),\n",
    "        ClassesInfo(\n",
    "            number=1602, name=\"one year two class\", fk_teacher_id=2\n",
    "        ),\n",
    "        ClassesInfo(\n",
    "            number=1603, name=\"one year three class\", fk_teacher_id=3\n",
    "        ),\n",
    "        # 插入中间表数据\n",
    "        ClassesAndTeachersRelationship(\n",
    "            fk_class_id=1, fk_teacher_id=1\n",
    "        ),\n",
    "        ClassesAndTeachersRelationship(\n",
    "            fk_class_id=2, fk_teacher_id=1\n",
    "        ),\n",
    "        ClassesAndTeachersRelationship(\n",
    "            fk_class_id=3, fk_teacher_id=1\n",
    "        ),\n",
    "        ClassesAndTeachersRelationship(\n",
    "            fk_class_id=1, fk_teacher_id=2\n",
    "        ),\n",
    "        ClassesAndTeachersRelationship(\n",
    "            fk_class_id=3, fk_teacher_id=3\n",
    "        ),\n",
    "        # 插入学生表数据\n",
    "        StudentsInfo(\n",
    "            name=\"Jack\", gender=\"m\", age=17, fk_student_id=1, fk_class_id=2\n",
    "        ),\n",
    "        StudentsInfo(\n",
    "            name=\"Tom\", gender=\"m\", age=18, fk_student_id=2, fk_class_id=1\n",
    "        ),\n",
    "        StudentsInfo(\n",
    "            name=\"Mary\", gender=\"f\", age=16, fk_student_id=3,\n",
    "            fk_class_id=3\n",
    "        ),\n",
    "        StudentsInfo(\n",
    "            name=\"Anna\", gender=\"f\", age=17, fk_student_id=4,\n",
    "            fk_class_id=1\n",
    "        ),\n",
    "        StudentsInfo(\n",
    "            name=\"Bobby\", gender=\"m\", age=18, fk_student_id=6, fk_class_id=2\n",
    "        ),\n",
    "    )\n",
    ")\n",
    "session.commit()\n",
    "# 关闭链接，亦可使用session.remove()，它将回收该链接\n",
    "session.close()"
   ]
  },
  {
   "cell_type": "markdown",
   "id": "e6fa5a91-38dd-4a00-a66e-fd14c44d4d0e",
   "metadata": {},
   "source": [
    "## JOIN"
   ]
  },
  {
   "cell_type": "code",
   "execution_count": null,
   "id": "7fccd75b-bede-47fd-97ec-f25d119db40b",
   "metadata": {},
   "outputs": [],
   "source": [
    "Session = sessionmaker(bind=engine)\n",
    "session = scoped_session(Session)\n",
    "result = session.query(\n",
    "    StudentsInfo.name,\n",
    "    StudentsNumberInfo.number,\n",
    "    ClassesInfo.number\n",
    ").join(\n",
    "    StudentsNumberInfo,\n",
    "    StudentsInfo.fk_student_id == StudentsNumberInfo.id\n",
    ").join(\n",
    "    ClassesInfo,\n",
    "    StudentsInfo.fk_class_id == ClassesInfo.id\n",
    ").all()\n",
    "print(result)\n",
    "# [('Jack', 160201, 1602), ('Tom', 160101, 1601), ('Mary', 160301, 1603), ('Anna', 160102, 1601), ('Bobby', 160202, 1602)]\n",
    "# 关闭链接，亦可使用session.remove()，它将回收该链接\n",
    "session.close()"
   ]
  },
  {
   "cell_type": "markdown",
   "id": "acc56cc8-bc84-4e62-8b96-719d52db4062",
   "metadata": {},
   "source": [
    "### LEFT JOIN\n",
    "\n",
    "left join只需要在每个JOIN中指定isouter关键字参数为True即可：\n",
    "\n",
    "session.query(\n",
    "    左表.字段,\n",
    "    右表.字段\n",
    ")\n",
    ".join(\n",
    "    右表,\n",
    "    链接条件,\n",
    "    isouter=True\n",
    ").all()"
   ]
  },
  {
   "cell_type": "markdown",
   "id": "6efbe136-a67f-4220-9e15-a857334a9580",
   "metadata": {},
   "source": [
    "### RIGHT JOIN\n",
    "\n",
    "需要换表的位置，SQLALchemy本身并未提供RIGHT JOIN，所以使用时一定要注意驱动顺序，小表驱动大表：\n",
    "\n",
    "session.query(\n",
    "    左表.字段,\n",
    "    右表.字段\n",
    ")\n",
    ".join(\n",
    "    左表,\n",
    "    链接条件,\n",
    "    isouter=True\n",
    ").all()"
   ]
  },
  {
   "cell_type": "markdown",
   "id": "c3910c36-de28-482e-b1f5-52e2f4804840",
   "metadata": {},
   "source": [
    "## 子查询\n",
    "\n",
    "子查询使用subquery()实现，如下所示，查询每个班级中年龄最小的人："
   ]
  },
  {
   "cell_type": "code",
   "execution_count": null,
   "id": "8f7a37f8-d255-4604-b2f5-fe99c2189b6e",
   "metadata": {},
   "outputs": [],
   "source": [
    "# 获取链接池、ORM表对象\n",
    "from sqlalchemy import func\n",
    "# 子查询中所有字段的访问都需要加上c的前缀\n",
    "# 如 sub_query.c.id、 sub_query.c.name等\n",
    "sub_query = session.query(\n",
    "    # 使用label()来为字段AS一个别名\n",
    "    # 后续访问需要通过sub_query.c.alias进行访问\n",
    "    func.min(StudentsInfo.age).label(\"min_age\"),\n",
    "    ClassesInfo.id,\n",
    "    ClassesInfo.name\n",
    ").join(\n",
    "    ClassesInfo,\n",
    "    StudentsInfo.fk_class_id == ClassesInfo.id\n",
    ").group_by(\n",
    "    ClassesInfo.id\n",
    ").subquery()\n",
    "\n",
    "result = session.query(\n",
    "    StudentsInfo.name,\n",
    "    sub_query.c.min_age,\n",
    "    sub_query.c.name\n",
    ").join(\n",
    "    sub_query,\n",
    "    sub_query.c.id == StudentsInfo.fk_class_id\n",
    ").filter(\n",
    "   sub_query.c.min_age == StudentsInfo.age\n",
    ")\n",
    "\n",
    "print(result.all())\n",
    "# [('Jack', 17, 'one year two class'), ('Mary', 16, 'one year three class'), ('Anna', 17, 'one year one class')]\n",
    "\n",
    "# 关闭链接，亦可使用session.remove()，它将回收该链接\n",
    "session.close()"
   ]
  },
  {
   "cell_type": "markdown",
   "id": "566278e1-fc88-4bf7-b934-dbc72153ddab",
   "metadata": {
    "tags": []
   },
   "source": [
    "## 正反查询\n",
    "\n",
    "上面我们都是通过JOIN进行查询的，实际上我们也可以通过逻辑字段relationship进行查询。\n",
    "\n",
    "### 正向查询\n",
    "\n",
    "下面是正向查询的示例，正向查询是指从有relationship逻辑字段的表开始查询："
   ]
  },
  {
   "cell_type": "code",
   "execution_count": null,
   "id": "0585e5ac-eccf-45bb-a486-697946be51e4",
   "metadata": {},
   "outputs": [],
   "source": [
    "# 查询所有学生的所在班级，我们可以通过学生的from_class字段拿到其所在班级\n",
    "# 另外，对于学生来说，班级只能有一个，所以have_student应当是一个对象\n",
    "# 获取链接池、ORM表对象\n",
    "students_lst = session.query(\n",
    "    StudentsInfo\n",
    ").all()\n",
    "for row in students_lst:\n",
    "    print(f\"\"\"\n",
    "            student name : {row.name}\n",
    "            from : {row.from_class.name}\n",
    "          \"\"\")\n",
    "# student name : Mary\n",
    "# from : one year three class\n",
    "# student name : Anna\n",
    "# from : one year one class\n",
    "# student name : Bobby\n",
    "# from : one year two class\n",
    "# 关闭链接，亦可使用session.remove()，它将回收该链接\n",
    "session.close()"
   ]
  },
  {
   "cell_type": "markdown",
   "id": "d9e0cd25-394b-40e5-bf2b-de5782fc7861",
   "metadata": {},
   "source": [
    "### 反向查询\n",
    "\n",
    "下面是反向查询的示例，反向查询是指从没有relationship逻辑字段的表开始查询："
   ]
  },
  {
   "cell_type": "code",
   "execution_count": null,
   "id": "2d20e0ae-8814-44f0-adb5-30f2468ba5a2",
   "metadata": {},
   "outputs": [],
   "source": [
    "# 查询所有班级中的所有学生，学生表中有relationship，并且它的backref为have_student，所以我们可以通过班级.have_student来获取所有学生记录\n",
    "# 另外，对于班级来说，学生可以有多个，所以have_student应当是一个序列\n",
    "classes_lst = session.query(\n",
    "    ClassesInfo\n",
    ").all()\n",
    "for row in classes_lst:\n",
    "    print(\"class name :\", row.name)\n",
    "    for student in row.have_student:\n",
    "        print(\"student name :\", student.name)\n",
    "# class name : one year one class\n",
    "#      student name : Jack\n",
    "#      student name : Anna\n",
    "# class name : one year two class\n",
    "#      student name : Tom\n",
    "# class name : one year three class\n",
    "#      student name : Mary\n",
    "#      student name : Bobby\n",
    "# 关闭链接，亦可使用session.remove()，它将回收该链接\n",
    "session.close()\n"
   ]
  },
  {
   "cell_type": "markdown",
   "id": "cd702132-37d6-4a32-b950-2fc8519f937e",
   "metadata": {},
   "source": [
    "总结，正向查询的逻辑字段总是得到一个对象，反向查询的逻辑字段总是得到一个列表。"
   ]
  },
  {
   "cell_type": "markdown",
   "id": "cdbd4c17-2509-4d86-bdd2-76d80531300e",
   "metadata": {},
   "source": [
    "反向方法\n",
    "\n",
    "使用逻辑字段relationship可以直接对一些跨表记录进行增删改查。\n",
    "\n",
    "由于逻辑字段是一个类似于列表的存在（仅限于反向查询，正向查询总是得到一个对象），所以列表的绝大多数方法都能用。\n",
    "\n",
    "<class 'sqlalchemy.orm.collections.InstrumentedList'>\n",
    "    - append()\n",
    "    - clear()\n",
    "    - copy()\n",
    "    - count()\n",
    "    - extend()\n",
    "    - index()\n",
    "    - insert()\n",
    "    - pop()\n",
    "    - remove()\n",
    "    - reverse()\n",
    "    - sort()\n",
    "下面不再进行实机演示，因为我们上面的几张表中做了很多约束。"
   ]
  },
  {
   "cell_type": "markdown",
   "id": "46d5be28-aa80-4283-8935-6fc0f0a7ce62",
   "metadata": {},
   "source": [
    "以下代码只是举例，运行时不会成功 \n",
    "\n",
    "\n",
    "比如给老师增加班级\n",
    "```python\n",
    "result = session.query(Teachers).first()\n",
    "\n",
    "# extend方法：\n",
    "result.re_class.extend([\n",
    "    Classes(name=\"三年级一班\",),\n",
    "    Classes(name=\"三年级二班\",),\n",
    "])\n",
    "# 比如\n",
    "# 减少老师所在的班级\n",
    "result = session.query(Teachers).first()\n",
    "# 待删除的班级对象,集合查找比较快\n",
    "delete_class_set = {\n",
    "    session.query(Classes).filter_by(id=7).first(),\n",
    "    session.query(Classes).filter_by(id=8).first(),\n",
    "}\n",
    "# 循换老师所在的班级\n",
    "# remove方法：\n",
    "for class_obj in result.re_class:\n",
    "    if class_obj in delete_class_set:\n",
    "        result.re_class.remove(class_obj)\n",
    "# 比如\n",
    "# 清空老师所任教的所有班级\n",
    "# 拿出一个老师\n",
    "result = session.query(Teachers).first()\n",
    "result.re_class.clear()\n",
    "```"
   ]
  },
  {
   "cell_type": "markdown",
   "id": "5c0b3c04-3ca1-4e19-a546-be80c7b0b48f",
   "metadata": {},
   "source": [
    "## 查询案例"
   ]
  },
  {
   "cell_type": "markdown",
   "id": "067e476f-372b-4b5a-9827-a722f1b4053b",
   "metadata": {},
   "source": [
    "（1）查看每个班级共有多少学生："
   ]
  },
  {
   "cell_type": "code",
   "execution_count": null,
   "id": "d2717fdd-b709-4619-ade9-6cb1c69bc1d6",
   "metadata": {},
   "outputs": [],
   "source": [
    "#JOIN查询：\n",
    "\n",
    "# 获取链接池、ORM表对象\n",
    "from sqlalchemy import func\n",
    "result = session.query(\n",
    "    ClassesInfo.name,\n",
    "    func.count(StudentsInfo.id)\n",
    ").join(\n",
    "    StudentsInfo,\n",
    "    ClassesInfo.id == StudentsInfo.fk_class_id\n",
    ").group_by(\n",
    "    ClassesInfo.id\n",
    ").all()\n",
    "print(result)\n",
    "# [('one year one class', 2), ('one year two class', 2), ('one year three class', 1)]\n",
    "# 关闭链接，亦可使用session.remove()，它将回收该链接\n",
    "session.close()"
   ]
  },
  {
   "cell_type": "code",
   "execution_count": null,
   "id": "cb438605-fcb6-4926-9bee-5f1d72962089",
   "metadata": {},
   "outputs": [],
   "source": [
    "#正反查询：\n",
    "result = {}\n",
    "class_lst = session.query(\n",
    "    ClassesInfo\n",
    ").all()\n",
    "for row in class_lst:\n",
    "    for student in row.have_student:\n",
    "        count = result.setdefault(row.name, 0)\n",
    "        result[row.name] = count + 1\n",
    "print(result.items())\n",
    "# dict_items([('one year one class', 2), ('one year two class', 2), ('one year three class', 1)])\n",
    "# 关闭链接，亦可使用session.remove()，它将回收该链接\n",
    "session.close()"
   ]
  },
  {
   "cell_type": "markdown",
   "id": "8313f111-7b4b-435d-b20d-9fd7738b342b",
   "metadata": {},
   "source": [
    "（2）查看每个学生的入学、毕业年份以及所在的班级名称："
   ]
  },
  {
   "cell_type": "code",
   "execution_count": null,
   "id": "7082f759-66e2-4c57-b754-3430406acd6c",
   "metadata": {},
   "outputs": [],
   "source": [
    "#JOIN查询：\n",
    "result = session.query(\n",
    "    StudentsNumberInfo.number,\n",
    "    StudentsInfo.name,\n",
    "    ClassesInfo.name,\n",
    "    StudentsNumberInfo.admission,\n",
    "    StudentsNumberInfo.graduation\n",
    ").join(\n",
    "    StudentsInfo,\n",
    "    StudentsInfo.fk_class_id == ClassesInfo.id\n",
    ").join(\n",
    "    StudentsNumberInfo,\n",
    "    StudentsNumberInfo.id == StudentsInfo.fk_student_id\n",
    ").order_by(\n",
    "    StudentsNumberInfo.number.asc()\n",
    ").all()\n",
    "print(result)\n",
    "# [\n",
    "#     (160101, 'Tom', 'one year one class', datetime.date(2016, 9, 1), datetime.date(2021, 6, 15)),\n",
    "#     (160102, 'Anna', 'one year one class', datetime.date(2016, 9, 1), datetime.date(2021, 6, 15)),\n",
    "#     (160201, 'Jack', 'one year two class', datetime.date(2016, 9, 1), datetime.date(2021, 6, 15)),\n",
    "#     (160202, 'Bobby', 'one year two class', datetime.date(2016, 9, 1), datetime.date(2021, 6, 15)),\n",
    "#     (160301, 'Mary', 'one year three class', datetime.date(2016, 9, 1), datetime.date(2021, 6, 15))\n",
    "# ]\n",
    "# 关闭链接，亦可使用session.remove()，它将回收该链接\n",
    "session.close()"
   ]
  },
  {
   "cell_type": "code",
   "execution_count": null,
   "id": "831fb7e3-975d-4afb-a213-312247c24c12",
   "metadata": {},
   "outputs": [],
   "source": [
    "#正反查询：\n",
    "result = []\n",
    "student_lst = session.query(\n",
    "    StudentsInfo\n",
    ").all()\n",
    "for row in student_lst:\n",
    "    result.append((\n",
    "        row.number_info.number,\n",
    "        row.name,\n",
    "        row.from_class.name,\n",
    "        row.number_info.admission,\n",
    "        row.number_info.graduation\n",
    "    ))\n",
    "print(result)\n",
    "# [\n",
    "#     (160101, 'Tom', 'one year one class', datetime.date(2016, 9, 1), datetime.date(2021, 6, 15)),\n",
    "#     (160102, 'Anna', 'one year one class', datetime.date(2016, 9, 1), datetime.date(2021, 6, 15)),\n",
    "#     (160201, 'Jack', 'one year two class', datetime.date(2016, 9, 1), datetime.date(2021, 6, 15)),\n",
    "#     (160202, 'Bobby', 'one year two class', datetime.date(2016, 9, 1), datetime.date(2021, 6, 15)),\n",
    "#     (160301, 'Mary', 'one year three class', datetime.date(2016, 9, 1), datetime.date(2021, 6, 15))\n",
    "# ]\n",
    "# 关闭链接，亦可使用session.remove()，它将回收该链接\n",
    "session.close()"
   ]
  },
  {
   "cell_type": "markdown",
   "id": "78c2ad9f-91bd-40ea-9e9c-e08f59d7b3da",
   "metadata": {},
   "source": [
    "3）查看David所教授的学生中年龄最小的学生："
   ]
  },
  {
   "cell_type": "markdown",
   "id": "78a5b601-c0c0-4f4d-86cc-e14a828c650a",
   "metadata": {},
   "source": [
    "#### 练习1："
   ]
  },
  {
   "cell_type": "code",
   "execution_count": null,
   "id": "10a58607-f7b6-4a0d-866a-6e44667138c5",
   "metadata": {},
   "outputs": [],
   "source": [
    "# todo\n",
    "#JOIN查询\n",
    "# [('David', 'Mary', 16, 'one year three class')]"
   ]
  },
  {
   "cell_type": "markdown",
   "id": "9dfb8c8c-83e9-456f-82c8-f284826fc97a",
   "metadata": {},
   "source": [
    "#### 练习2:"
   ]
  },
  {
   "cell_type": "code",
   "execution_count": null,
   "id": "4c0e7b6b-939d-4fb1-bda3-c5a42b4d7a2b",
   "metadata": {},
   "outputs": [],
   "source": [
    "#正反查询：\n",
    "# ('David', 'Mary', 16, 'one year three class')"
   ]
  },
  {
   "cell_type": "markdown",
   "id": "de033bc9-aaf0-40b8-953d-ca6c93efd916",
   "metadata": {},
   "source": [
    "4）查看每个班级的负责人是谁，以及任课老师都有谁："
   ]
  },
  {
   "cell_type": "markdown",
   "id": "0ebbeb26-1ae9-4acb-b3fc-863560e9c8ef",
   "metadata": {},
   "source": [
    "#### 练习3:"
   ]
  },
  {
   "cell_type": "code",
   "execution_count": null,
   "id": "4e4c5377-4a39-4f06-81ac-13fe8126d839",
   "metadata": {},
   "outputs": [],
   "source": [
    "# JOIN\n",
    "# todo\n",
    "# [('one year one class', 'David', 'Jason,David'), ('one year two class', 'Jason', 'David'), ('one year three class', 'Lisa', 'David,Lisa')]"
   ]
  },
  {
   "cell_type": "markdown",
   "id": "9a3817e1-32bc-4465-95bd-c9bad9828316",
   "metadata": {},
   "source": [
    "#### 练习4"
   ]
  },
  {
   "cell_type": "code",
   "execution_count": null,
   "id": "746e9169-9de2-4128-9921-d28e9fbcc48d",
   "metadata": {},
   "outputs": [],
   "source": [
    "# 正反查询\n",
    "# todo\n",
    "# [('one year one class', 'David', 'Jason,David'), ('one year two class', 'Jason', 'David'), ('one year three class', 'Lisa', 'David,Lisa')]"
   ]
  },
  {
   "cell_type": "markdown",
   "id": "951ab936-cf61-4f7c-a81b-1f78f53f1f6a",
   "metadata": {},
   "source": [
    "原生SQL\n",
    "\n",
    "查看执行命令\n",
    "\n",
    "如果一条查询语句是filter()结尾，则该对象的__str__方法会返回格式化后的查询语句："
   ]
  },
  {
   "cell_type": "code",
   "execution_count": null,
   "id": "eabeb9b2-5e69-49b9-8a82-90069e1b0710",
   "metadata": {},
   "outputs": [],
   "source": [
    "print(\n",
    "    session.query(StudentsInfo).filter()\n",
    ")"
   ]
  }
 ],
 "metadata": {
  "kernelspec": {
   "display_name": "Python 3 (ipykernel)",
   "language": "python",
   "name": "python3"
  },
  "language_info": {
   "codemirror_mode": {
    "name": "ipython",
    "version": 3
   },
   "file_extension": ".py",
   "mimetype": "text/x-python",
   "name": "python",
   "nbconvert_exporter": "python",
   "pygments_lexer": "ipython3",
   "version": "3.11.8"
  }
 },
 "nbformat": 4,
 "nbformat_minor": 5
}
